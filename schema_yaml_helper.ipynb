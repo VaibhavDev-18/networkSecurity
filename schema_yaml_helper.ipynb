{
 "cells": [
  {
   "cell_type": "code",
   "execution_count": 12,
   "id": "da070527-ba40-49ca-8201-8e794d054035",
   "metadata": {},
   "outputs": [],
   "source": [
    "import pandas as pd\n",
    "import yaml"
   ]
  },
  {
   "cell_type": "code",
   "execution_count": 13,
   "id": "fc21e7a9-4cd0-4c20-9a16-f373fe3e15fc",
   "metadata": {},
   "outputs": [],
   "source": [
    "df = pd.read_csv('Network_Data/dataset_phishing.csv')"
   ]
  },
  {
   "cell_type": "code",
   "execution_count": 14,
   "id": "11785654-0b38-486a-8f2c-b012fcd5803c",
   "metadata": {},
   "outputs": [],
   "source": [
    "def infer_dtype(dtype):\n",
    "    if pd.api.types.is_integer_dtype(dtype):\n",
    "        return 'int'\n",
    "    elif pd.api.types.is_float_dtype(dtype):\n",
    "        return 'float'\n",
    "    elif pd.api.types.is_bool_dtype(dtype):\n",
    "        return 'bool'\n",
    "    else:\n",
    "        return 'string'"
   ]
  },
  {
   "cell_type": "code",
   "execution_count": 15,
   "id": "0c6495cc-6436-49f8-8400-b13ea680abf3",
   "metadata": {},
   "outputs": [],
   "source": [
    "schema = {\n",
    "    'input_features': [],\n",
    "    'numerical_cols': []\n",
    "}"
   ]
  },
  {
   "cell_type": "code",
   "execution_count": 16,
   "id": "3b4f0cc2-fcc5-44c8-bc20-e695233b1eb7",
   "metadata": {},
   "outputs": [],
   "source": [
    "for col in df.columns:\n",
    "    col_type = infer_dtype(df[col].dtype)\n",
    "    schema['input_features'].append({\n",
    "        'name': col,\n",
    "        'type': col_type\n",
    "    })\n",
    "    if col_type in ['int', 'float']:\n",
    "        schema['numerical_cols'].append(col)"
   ]
  },
  {
   "cell_type": "code",
   "execution_count": 17,
   "id": "9e6bf7dd-d7f4-473b-bb59-e2705a09eec9",
   "metadata": {},
   "outputs": [
    {
     "name": "stdout",
     "output_type": "stream",
     "text": [
      "✅ schema.yaml generated.\n"
     ]
    }
   ],
   "source": [
    "with open('schema.yaml', 'w') as f:\n",
    "    yaml.dump(schema, f, default_flow_style=False)\n",
    "\n",
    "print(\"✅ schema.yaml generated.\")"
   ]
  },
  {
   "cell_type": "code",
   "execution_count": null,
   "id": "c4b0ea1d-0735-4b51-ab8f-100fd92810b4",
   "metadata": {},
   "outputs": [],
   "source": []
  }
 ],
 "metadata": {
  "kernelspec": {
   "display_name": "Python 3 (ipykernel)",
   "language": "python",
   "name": "python3"
  },
  "language_info": {
   "codemirror_mode": {
    "name": "ipython",
    "version": 3
   },
   "file_extension": ".py",
   "mimetype": "text/x-python",
   "name": "python",
   "nbconvert_exporter": "python",
   "pygments_lexer": "ipython3",
   "version": "3.12.6"
  }
 },
 "nbformat": 4,
 "nbformat_minor": 5
}
